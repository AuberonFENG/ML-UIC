{
 "cells": [
  {
   "cell_type": "code",
   "execution_count": 1,
   "metadata": {},
   "outputs": [],
   "source": [
    "import keras\n",
    "from keras.utils import np_utils\n",
    "from tensorflow.keras import optimizers\n",
    "from keras.datasets import cifar10\n",
    "from keras.models import Sequential\n",
    "from keras.layers import Conv2D, Dense, Flatten, MaxPooling2D\n",
    "from keras.callbacks import LearningRateScheduler, TensorBoard\n",
    "\n",
    "batch_size    = 128\n",
    "epochs        = 50\n",
    "iterations    = 391\n",
    "num_classes   = 10\n",
    "log_filepath  = './lenet'"
   ]
  },
  {
   "cell_type": "code",
   "execution_count": 2,
   "metadata": {},
   "outputs": [],
   "source": [
    "(x_train, y_train), (x_test, y_test) = cifar10.load_data()"
   ]
  },
  {
   "cell_type": "code",
   "execution_count": 3,
   "metadata": {},
   "outputs": [],
   "source": [
    "y_train = np_utils.to_categorical(y_train, num_classes) # one-hot 编码 (50000,10)\n",
    "y_test = np_utils.to_categorical(y_test, num_classes) # one-hot 编码 (10000,10)\n",
    "x_train = x_train.astype('float32')\n",
    "x_test = x_test.astype('float32')\n",
    "\n",
    "# data preprocessing\n",
    "x_train /= 255 #\n",
    "x_test /= 255"
   ]
  },
  {
   "cell_type": "code",
   "execution_count": 4,
   "metadata": {},
   "outputs": [],
   "source": [
    "def build_model():\n",
    "    model = Sequential()\n",
    "    model.add(Conv2D(6, (5, 5), padding='valid', activation = 'relu', kernel_initializer='he_normal', input_shape=(32,32,3)))\n",
    "    model.add(MaxPooling2D((2, 2), strides=(2, 2)))\n",
    "    model.add(Conv2D(16, (5, 5), padding='valid', activation = 'relu', kernel_initializer='he_normal'))\n",
    "    model.add(MaxPooling2D((2, 2), strides=(2, 2)))\n",
    "    model.add(Flatten())\n",
    "    model.add(Dense(120, activation = 'relu', kernel_initializer='he_normal'))\n",
    "    model.add(Dense(84, activation = 'relu', kernel_initializer='he_normal'))\n",
    "    model.add(Dense(10, activation = 'softmax', kernel_initializer='he_normal'))\n",
    "    sgd = optimizers.SGD(lr=.1, momentum=0.9, nesterov=True)\n",
    "    model.compile(loss='categorical_crossentropy', optimizer=sgd, metrics=['accuracy'])\n",
    "    return model"
   ]
  },
  {
   "cell_type": "code",
   "execution_count": 5,
   "metadata": {},
   "outputs": [],
   "source": [
    "def scheduler(epoch):\n",
    "    if epoch < 100:\n",
    "        return 0.01\n",
    "    if epoch < 150:\n",
    "        return 0.005\n",
    "    return 0.001"
   ]
  },
  {
   "cell_type": "code",
   "execution_count": 6,
   "metadata": {},
   "outputs": [
    {
     "name": "stdout",
     "output_type": "stream",
     "text": [
      "Model: \"sequential\"\n",
      "_________________________________________________________________\n",
      "Layer (type)                 Output Shape              Param #   \n",
      "=================================================================\n",
      "conv2d (Conv2D)              (None, 28, 28, 6)         456       \n",
      "_________________________________________________________________\n",
      "max_pooling2d (MaxPooling2D) (None, 14, 14, 6)         0         \n",
      "_________________________________________________________________\n",
      "conv2d_1 (Conv2D)            (None, 10, 10, 16)        2416      \n",
      "_________________________________________________________________\n",
      "max_pooling2d_1 (MaxPooling2 (None, 5, 5, 16)          0         \n",
      "_________________________________________________________________\n",
      "flatten (Flatten)            (None, 400)               0         \n",
      "_________________________________________________________________\n",
      "dense (Dense)                (None, 120)               48120     \n",
      "_________________________________________________________________\n",
      "dense_1 (Dense)              (None, 84)                10164     \n",
      "_________________________________________________________________\n",
      "dense_2 (Dense)              (None, 10)                850       \n",
      "=================================================================\n",
      "Total params: 62,006\n",
      "Trainable params: 62,006\n",
      "Non-trainable params: 0\n",
      "_________________________________________________________________\n",
      "None\n"
     ]
    },
    {
     "name": "stderr",
     "output_type": "stream",
     "text": [
      "d:\\anaconda3\\envs\\machinelearning\\lib\\site-packages\\keras\\optimizer_v2\\optimizer_v2.py:356: UserWarning: The `lr` argument is deprecated, use `learning_rate` instead.\n",
      "  \"The `lr` argument is deprecated, use `learning_rate` instead.\")\n"
     ]
    }
   ],
   "source": [
    "model = build_model()\n",
    "print(model.summary())"
   ]
  },
  {
   "cell_type": "code",
   "execution_count": 7,
   "metadata": {},
   "outputs": [
    {
     "name": "stdout",
     "output_type": "stream",
     "text": [
      "Epoch 1/50\n",
      "391/391 [==============================] - 11s 28ms/step - loss: 1.8381 - accuracy: 0.3315 - val_loss: 1.5475 - val_accuracy: 0.4379\n",
      "Epoch 2/50\n",
      "391/391 [==============================] - 10s 26ms/step - loss: 1.4974 - accuracy: 0.4610 - val_loss: 1.4409 - val_accuracy: 0.4862\n",
      "Epoch 3/50\n",
      "391/391 [==============================] - 10s 26ms/step - loss: 1.3472 - accuracy: 0.5194 - val_loss: 1.4780 - val_accuracy: 0.4840\n",
      "Epoch 4/50\n",
      "391/391 [==============================] - 10s 24ms/step - loss: 1.2547 - accuracy: 0.5541 - val_loss: 1.3317 - val_accuracy: 0.5251\n",
      "Epoch 5/50\n",
      "391/391 [==============================] - 9s 23ms/step - loss: 1.1893 - accuracy: 0.5791 - val_loss: 1.2486 - val_accuracy: 0.5613\n",
      "Epoch 6/50\n",
      "391/391 [==============================] - 9s 24ms/step - loss: 1.1350 - accuracy: 0.5972 - val_loss: 1.2618 - val_accuracy: 0.5579\n",
      "Epoch 7/50\n",
      "391/391 [==============================] - 9s 24ms/step - loss: 1.0912 - accuracy: 0.6168 - val_loss: 1.1396 - val_accuracy: 0.5959\n",
      "Epoch 8/50\n",
      "391/391 [==============================] - 10s 25ms/step - loss: 1.0521 - accuracy: 0.6266 - val_loss: 1.1983 - val_accuracy: 0.5775\n",
      "Epoch 9/50\n",
      "391/391 [==============================] - 9s 24ms/step - loss: 1.0194 - accuracy: 0.6400 - val_loss: 1.1405 - val_accuracy: 0.5987\n",
      "Epoch 10/50\n",
      "391/391 [==============================] - 10s 25ms/step - loss: 0.9813 - accuracy: 0.6535 - val_loss: 1.2454 - val_accuracy: 0.5718\n",
      "Epoch 11/50\n",
      "391/391 [==============================] - 10s 25ms/step - loss: 0.9493 - accuracy: 0.6646 - val_loss: 1.1705 - val_accuracy: 0.5967\n",
      "Epoch 12/50\n",
      "391/391 [==============================] - 9s 23ms/step - loss: 0.9246 - accuracy: 0.6735 - val_loss: 1.1559 - val_accuracy: 0.6057\n",
      "Epoch 13/50\n",
      "391/391 [==============================] - 9s 24ms/step - loss: 0.8957 - accuracy: 0.6837 - val_loss: 1.1976 - val_accuracy: 0.5980\n",
      "Epoch 14/50\n",
      "391/391 [==============================] - 10s 25ms/step - loss: 0.8717 - accuracy: 0.6923 - val_loss: 1.1667 - val_accuracy: 0.5958\n",
      "Epoch 15/50\n",
      "391/391 [==============================] - 10s 26ms/step - loss: 0.8434 - accuracy: 0.7008 - val_loss: 1.1798 - val_accuracy: 0.6061\n",
      "Epoch 16/50\n",
      "391/391 [==============================] - 10s 25ms/step - loss: 0.8203 - accuracy: 0.7089 - val_loss: 1.1421 - val_accuracy: 0.6158\n",
      "Epoch 17/50\n",
      "391/391 [==============================] - 9s 24ms/step - loss: 0.7960 - accuracy: 0.7191 - val_loss: 1.1417 - val_accuracy: 0.6195\n",
      "Epoch 18/50\n",
      "391/391 [==============================] - 10s 25ms/step - loss: 0.7762 - accuracy: 0.7262 - val_loss: 1.1836 - val_accuracy: 0.6122\n",
      "Epoch 19/50\n",
      "391/391 [==============================] - 10s 25ms/step - loss: 0.7535 - accuracy: 0.7304 - val_loss: 1.2090 - val_accuracy: 0.6084\n",
      "Epoch 20/50\n",
      "391/391 [==============================] - 11s 27ms/step - loss: 0.7319 - accuracy: 0.7410 - val_loss: 1.3358 - val_accuracy: 0.5840\n",
      "Epoch 21/50\n",
      "391/391 [==============================] - 11s 28ms/step - loss: 0.7163 - accuracy: 0.7461 - val_loss: 1.2525 - val_accuracy: 0.6037\n",
      "Epoch 22/50\n",
      "391/391 [==============================] - 11s 28ms/step - loss: 0.6909 - accuracy: 0.7544 - val_loss: 1.3373 - val_accuracy: 0.5985\n",
      "Epoch 23/50\n",
      "391/391 [==============================] - 10s 26ms/step - loss: 0.6734 - accuracy: 0.7594 - val_loss: 1.2836 - val_accuracy: 0.5997\n",
      "Epoch 24/50\n",
      "391/391 [==============================] - 11s 28ms/step - loss: 0.6535 - accuracy: 0.7684 - val_loss: 1.2757 - val_accuracy: 0.6070\n",
      "Epoch 25/50\n",
      "391/391 [==============================] - 10s 27ms/step - loss: 0.6377 - accuracy: 0.7717 - val_loss: 1.3382 - val_accuracy: 0.6077\n",
      "Epoch 26/50\n",
      "391/391 [==============================] - 10s 24ms/step - loss: 0.6244 - accuracy: 0.7774 - val_loss: 1.3996 - val_accuracy: 0.6020\n",
      "Epoch 27/50\n",
      "391/391 [==============================] - 10s 26ms/step - loss: 0.6065 - accuracy: 0.7845 - val_loss: 1.3937 - val_accuracy: 0.5956\n",
      "Epoch 28/50\n",
      "391/391 [==============================] - 10s 25ms/step - loss: 0.5866 - accuracy: 0.7883 - val_loss: 1.3851 - val_accuracy: 0.6061\n",
      "Epoch 29/50\n",
      "391/391 [==============================] - 10s 26ms/step - loss: 0.5752 - accuracy: 0.7945 - val_loss: 1.4076 - val_accuracy: 0.5953\n",
      "Epoch 30/50\n",
      "391/391 [==============================] - 10s 26ms/step - loss: 0.5619 - accuracy: 0.7978 - val_loss: 1.5061 - val_accuracy: 0.5877\n",
      "Epoch 31/50\n",
      "391/391 [==============================] - 10s 26ms/step - loss: 0.5444 - accuracy: 0.8041 - val_loss: 1.5236 - val_accuracy: 0.5989\n",
      "Epoch 32/50\n",
      "391/391 [==============================] - 10s 26ms/step - loss: 0.5338 - accuracy: 0.8073 - val_loss: 1.4873 - val_accuracy: 0.5962\n",
      "Epoch 33/50\n",
      "391/391 [==============================] - 10s 26ms/step - loss: 0.5207 - accuracy: 0.8108 - val_loss: 1.6315 - val_accuracy: 0.5846\n",
      "Epoch 34/50\n",
      "391/391 [==============================] - 10s 26ms/step - loss: 0.5069 - accuracy: 0.8171 - val_loss: 1.5645 - val_accuracy: 0.5931\n",
      "Epoch 35/50\n",
      "391/391 [==============================] - 10s 26ms/step - loss: 0.4964 - accuracy: 0.8195 - val_loss: 1.6038 - val_accuracy: 0.5966\n",
      "Epoch 36/50\n",
      "391/391 [==============================] - 10s 26ms/step - loss: 0.4898 - accuracy: 0.8215 - val_loss: 1.6713 - val_accuracy: 0.5853\n",
      "Epoch 37/50\n",
      "391/391 [==============================] - 10s 26ms/step - loss: 0.4771 - accuracy: 0.8263 - val_loss: 1.6589 - val_accuracy: 0.5855\n",
      "Epoch 38/50\n",
      "391/391 [==============================] - 10s 26ms/step - loss: 0.4628 - accuracy: 0.8329 - val_loss: 1.6913 - val_accuracy: 0.5882\n",
      "Epoch 39/50\n",
      "391/391 [==============================] - 10s 24ms/step - loss: 0.4540 - accuracy: 0.8330 - val_loss: 1.7210 - val_accuracy: 0.5874\n",
      "Epoch 40/50\n",
      "391/391 [==============================] - 10s 25ms/step - loss: 0.4495 - accuracy: 0.8361 - val_loss: 1.8236 - val_accuracy: 0.5826\n",
      "Epoch 41/50\n",
      "391/391 [==============================] - 10s 25ms/step - loss: 0.4398 - accuracy: 0.8398 - val_loss: 1.7908 - val_accuracy: 0.5854\n",
      "Epoch 42/50\n",
      "391/391 [==============================] - 10s 26ms/step - loss: 0.4355 - accuracy: 0.8406 - val_loss: 1.8447 - val_accuracy: 0.5809\n",
      "Epoch 43/50\n",
      "391/391 [==============================] - 10s 26ms/step - loss: 0.4259 - accuracy: 0.8433 - val_loss: 1.9540 - val_accuracy: 0.5891\n",
      "Epoch 44/50\n",
      "391/391 [==============================] - 10s 26ms/step - loss: 0.4191 - accuracy: 0.8479 - val_loss: 1.8897 - val_accuracy: 0.5847\n",
      "Epoch 45/50\n",
      "391/391 [==============================] - 10s 26ms/step - loss: 0.4112 - accuracy: 0.8500 - val_loss: 2.0029 - val_accuracy: 0.5753\n",
      "Epoch 46/50\n",
      "391/391 [==============================] - 10s 26ms/step - loss: 0.3957 - accuracy: 0.8563 - val_loss: 2.0131 - val_accuracy: 0.5796\n",
      "Epoch 47/50\n",
      "391/391 [==============================] - 11s 27ms/step - loss: 0.3953 - accuracy: 0.8574 - val_loss: 2.0711 - val_accuracy: 0.5783\n",
      "Epoch 48/50\n",
      "391/391 [==============================] - 11s 27ms/step - loss: 0.3853 - accuracy: 0.8572 - val_loss: 2.1091 - val_accuracy: 0.5742\n",
      "Epoch 49/50\n",
      "391/391 [==============================] - 10s 26ms/step - loss: 0.3834 - accuracy: 0.8604 - val_loss: 2.0271 - val_accuracy: 0.5792\n",
      "Epoch 50/50\n",
      "391/391 [==============================] - 10s 27ms/step - loss: 0.3664 - accuracy: 0.8663 - val_loss: 2.1873 - val_accuracy: 0.5760\n"
     ]
    }
   ],
   "source": [
    "# set callback\n",
    "tb_cb = TensorBoard(log_dir=log_filepath, histogram_freq=0)\n",
    "change_lr = LearningRateScheduler(scheduler)\n",
    "cbks = [change_lr,tb_cb]\n",
    "\n",
    "# start traing \n",
    "history = model.fit(x_train, y_train,batch_size=batch_size,epochs=epochs,callbacks=cbks,\n",
    "              validation_data=(x_test, y_test), shuffle=True)"
   ]
  },
  {
   "cell_type": "code",
   "execution_count": 10,
   "metadata": {},
   "outputs": [
    {
     "name": "stdout",
     "output_type": "stream",
     "text": [
      "dict_keys(['loss', 'accuracy', 'val_loss', 'val_accuracy', 'lr'])\n"
     ]
    },
    {
     "data": {
      "image/png": "[encoded data removed]",
      "text/plain": [
       "<Figure size 432x288 with 2 Axes>"
      ]
     },
     "metadata": {
      "needs_background": "light"
     },
     "output_type": "display_data"
    }
   ],
   "source": [
    "print(history.history.keys())\n",
    "\n",
    "acc = history.history['accuracy']\n",
    "val_acc = history.history['val_accuracy']\n",
    "loss = history.history['loss']\n",
    "val_loss = history.history['val_loss']\n",
    "\n",
    "import matplotlib.pyplot as plt\n",
    "\n",
    "plt.subplot(1, 2, 1)\n",
    "plt.plot(acc, label='Training Accuracy')\n",
    "plt.plot(val_acc, label='Validation Accuracy')\n",
    "plt.title('LeNet5 Training and Validation Accuracy', fontsize=9)\n",
    "plt.legend()\n",
    "\n",
    "plt.subplot(1, 2, 2)\n",
    "plt.plot(loss, label='Training Loss')\n",
    "plt.plot(val_loss, label='Validation Loss')\n",
    "plt.title('LeNet5 Training and Validation Loss', fontsize=9)\n",
    "plt.legend()\n",
    "\n",
    "plt.show()\n"
   ]
  },
  {
   "cell_type": "code",
   "execution_count": null,
   "metadata": {},
   "outputs": [],
   "source": []
  }
 ],
 "metadata": {
  "kernelspec": {
   "display_name": "Python 3",
   "language": "python",
   "name": "python3"
  },
  "language_info": {
   "codemirror_mode": {
    "name": "ipython",
    "version": 3
   },
   "file_extension": ".py",
   "mimetype": "text/x-python",
   "name": "python",
   "nbconvert_exporter": "python",
   "pygments_lexer": "ipython3",
   "version": "3.6.13"
  }
 },
 "nbformat": 4,
 "nbformat_minor": 2
}
